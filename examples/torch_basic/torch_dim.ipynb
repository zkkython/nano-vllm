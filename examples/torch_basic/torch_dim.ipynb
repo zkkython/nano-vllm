{
 "cells": [
  {
   "cell_type": "code",
   "execution_count": 51,
   "id": "3159b406",
   "metadata": {},
   "outputs": [
    {
     "name": "stdout",
     "output_type": "stream",
     "text": [
      "torch.Size([2, 3, 5])\n",
      "3\n",
      "2\n",
      "3\n",
      "5\n",
      "2\n",
      "tensor([[[97, 37, 17, 53, 76],\n",
      "         [84, 19,  2, 77, 47],\n",
      "         [65, 26, 51,  5, 59]],\n",
      "\n",
      "        [[47, 29,  9, 85, 89],\n",
      "         [55, 18, 70, 48, 52],\n",
      "         [ 2, 12, 24, 14, 58]]])\n"
     ]
    }
   ],
   "source": [
    "import torch\n",
    "\n",
    "random_seed = 30\n",
    "torch.manual_seed(random_seed)\n",
    "arr = torch.randint(0, 100, (2, 3, 5))\n",
    "#arr = torch.arange(30).reshape(2, 3, 5)\n",
    "print(arr.shape)  # torch.Size([2, 3, 5])\n",
    "print(arr.dim())   # 3\n",
    "print(arr.size(0)) # 2\n",
    "print(arr.size(1)) # 3\n",
    "print(arr.size(2)) # 5\n",
    "print(arr.shape[0]) # 2\n",
    "print(arr)"
   ]
  },
  {
   "cell_type": "code",
   "execution_count": 52,
   "id": "ace6c1eb",
   "metadata": {},
   "outputs": [
    {
     "name": "stdout",
     "output_type": "stream",
     "text": [
      "tensor(1327)\n",
      "tensor([[144,  66,  26, 138, 165],\n",
      "        [139,  37,  72, 125,  99],\n",
      "        [ 67,  38,  75,  19, 117]])\n",
      "tensor([[246,  82,  70, 135, 182],\n",
      "        [104,  59, 103, 147, 199]])\n",
      "tensor([[280, 229, 206],\n",
      "        [259, 243, 110]])\n"
     ]
    }
   ],
   "source": [
    "print(torch.sum(arr))  \n",
    "print(torch.sum(arr, dim=0)) \n",
    "print(torch.sum(arr, dim=1)) \n",
    "print(torch.sum(arr, dim=2)) "
   ]
  },
  {
   "cell_type": "code",
   "execution_count": 53,
   "id": "61670eab",
   "metadata": {},
   "outputs": [
    {
     "name": "stdout",
     "output_type": "stream",
     "text": [
      "tensor([[[97, 37, 17, 53, 76],\n",
      "         [84, 19,  2, 77, 47],\n",
      "         [65, 26, 51,  5, 59]],\n",
      "\n",
      "        [[47, 29,  9, 85, 89],\n",
      "         [55, 18, 70, 48, 52],\n",
      "         [ 2, 12, 24, 14, 58]]])\n",
      "tensor(0)\n",
      "tensor([[0, 0, 0, 1, 1],\n",
      "        [0, 0, 1, 0, 1],\n",
      "        [0, 0, 0, 1, 0]])\n",
      "tensor([[0, 0, 2, 1, 0],\n",
      "        [1, 0, 1, 0, 0]])\n",
      "tensor([[0, 0, 0],\n",
      "        [4, 2, 4]])\n"
     ]
    }
   ],
   "source": [
    "print(arr)\n",
    "print(torch.argmax(arr)) \n",
    "print(torch.argmax(arr, dim=0)) \n",
    "print(torch.argmax(arr, dim=1)) \n",
    "print(torch.argmax(arr, dim=2)) "
   ]
  },
  {
   "cell_type": "code",
   "execution_count": null,
   "id": "ba7b88f5",
   "metadata": {},
   "outputs": [
    {
     "name": "stdout",
     "output_type": "stream",
     "text": [
      "tensor([[[97, 37, 17, 53, 76],\n",
      "         [84, 19,  2, 77, 47],\n",
      "         [65, 26, 51,  5, 59]],\n",
      "\n",
      "        [[47, 29,  9, 85, 89],\n",
      "         [55, 18, 70, 48, 52],\n",
      "         [ 2, 12, 24, 14, 58]]])\n",
      "tensor(97)\n",
      "tensor([[97, 37, 17, 85, 89],\n",
      "        [84, 19, 70, 77, 52],\n",
      "        [65, 26, 51, 14, 59]])\n",
      "tensor([[97, 37, 51, 77, 76],\n",
      "        [55, 29, 70, 85, 89]])\n",
      "tensor([[97, 84, 65],\n",
      "        [89, 70, 58]])\n"
     ]
    }
   ],
   "source": [
    "print(arr)\n",
    "print(torch.max(arr))  # tensor(97)\n",
    "print(torch.max(arr, dim=0)[0])  # [[97,37,17,85,89],...]\n",
    "print(torch.max(arr, dim=1)[0])  # [[97, 37, 51, 77, 76], [55, 29, 70, 85, 89]]\n",
    "\n",
    "print(torch.max(arr, dim=2)[0])  # [[97, 84, 65], [89, 70, 58]]"
   ]
  },
  {
   "cell_type": "code",
   "execution_count": null,
   "id": "49678964",
   "metadata": {},
   "outputs": [],
   "source": []
  }
 ],
 "metadata": {
  "kernelspec": {
   "display_name": "nvllm",
   "language": "python",
   "name": "python3"
  },
  "language_info": {
   "codemirror_mode": {
    "name": "ipython",
    "version": 3
   },
   "file_extension": ".py",
   "mimetype": "text/x-python",
   "name": "python",
   "nbconvert_exporter": "python",
   "pygments_lexer": "ipython3",
   "version": "3.12.11"
  }
 },
 "nbformat": 4,
 "nbformat_minor": 5
}
